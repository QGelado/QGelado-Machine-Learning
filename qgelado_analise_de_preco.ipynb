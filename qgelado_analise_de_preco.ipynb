{
 "cells": [
  {
   "cell_type": "markdown",
   "id": "e5b6a18d-d176-4d31-9d7d-e4e2bc8003b0",
   "metadata": {},
   "source": [
    "# QGelado - Aprendizado de máquina\n",
    "\n",
    "## Integrantes:\n",
    "Ademir Martins Alves, Aryel Anne Louise de Souza Gabriel, Diogo Lima de Carvalho\n",
    "\n",
    "### Link do repositório do projeto:\n",
    "https://github.com/QGelado\n",
    "\n",
    "O objetivo da aplicação é aplicar os conceitos vistos em aula e realizar uma análise de preços dos projetos em estoque no sistema. A ideia principal é fazer uma **requisição ao banco de dados** do sistema para retornar todos os sorvetes em estoque na loja. Após a coleta dos dados via API, o script irá **buscar na internet** os preços dos produtos pesquisados. Em seguida, será **calculada uma média geral** dos preços. Por fim, será **gerado um arquivo .csv** e haverá uma analise mais aprofundada dos dados com as bibliotecas sklearn e matplotlib. \n",
    "\n",
    "Esses dados serão muito úteis para a loja física, pois proporcionarão automaticamente aos interessados informações sobre os preços dos concorrentes, facilitando a tomada de decisão na definição do preço dos produtos. "
   ]
  },
  {
   "cell_type": "markdown",
   "id": "ad7afef1-b6cb-4c98-bdcf-96083e6e7e96",
   "metadata": {},
   "source": [
    "### Importando bibliotecas \n",
    "\n",
    "*É preciso baixar todas as bibliotecas usadas*"
   ]
  },
  {
   "cell_type": "code",
   "execution_count": 135,
   "id": "e027de89-81c9-49ef-8f81-ae1867244860",
   "metadata": {},
   "outputs": [],
   "source": [
    "import requests\n",
    "import json"
   ]
  },
  {
   "cell_type": "markdown",
   "id": "a19fba0b-3263-4dc0-bb68-deff9fcdf0cb",
   "metadata": {},
   "source": [
    "### Chamando API do projeto na rota de Sorvetes"
   ]
  },
  {
   "cell_type": "code",
   "execution_count": 136,
   "id": "fa26a0c6-4dfb-44c5-9293-7b8a0d432eb7",
   "metadata": {},
   "outputs": [
    {
     "data": {
      "text/plain": [
       "<Response [200]>"
      ]
     },
     "execution_count": 136,
     "metadata": {},
     "output_type": "execute_result"
    }
   ],
   "source": [
    "response = requests.get(\"https://r7b6tzdg-3000.brs.devtunnels.ms/sorvete-padrao\")\n",
    "response"
   ]
  },
  {
   "cell_type": "code",
   "execution_count": 137,
   "id": "3cf330f4-9267-4f05-9622-ccced0f406af",
   "metadata": {},
   "outputs": [
    {
     "data": {
      "text/plain": [
       "[{'_id': '65dd11392aacadacb8c01525',\n",
       "  'marca': 'Kibon',\n",
       "  'quantidade': 200,\n",
       "  'status': 'Em estoque',\n",
       "  'nome': 'Eskibon Clássico',\n",
       "  'preco': 6,\n",
       "  'sabor': 'Baunilha coberto com casquinha de chocolate ao leite',\n",
       "  'descricao': 'Um delicioso e geladinho sorvete de baunilha coberto com uma casquinha de chocolate 79ml',\n",
       "  'imagem': '/sorvete-padrao/image/1716050350859.png'},\n",
       " {'_id': '65dd12d92aacadacb8c01527',\n",
       "  'marca': 'Kibon',\n",
       "  'quantidade': 200,\n",
       "  'status': 'Em estoque',\n",
       "  'nome': 'Frutare Uva',\n",
       "  'preco': 6,\n",
       "  'sabor': 'Uva',\n",
       "  'descricao': 'Um delicioso e geladinho sorvete de uva 79ml',\n",
       "  'imagem': '/sorvete-padrao/image/1716052531762.jpeg'},\n",
       " {'_id': '65f3538e32fe6725e24752e3',\n",
       "  'marca': 'Kibon',\n",
       "  'quantidade': 250,\n",
       "  'status': 'Em estoque',\n",
       "  'nome': 'Chocotop',\n",
       "  'preco': 10,\n",
       "  'sabor': 'Chocolate',\n",
       "  'descricao': 'Sorvete muito delicioso de chocolate',\n",
       "  'imagem': '/sorvete-padrao/image/1716050488310.jpg'}]"
      ]
     },
     "execution_count": 137,
     "metadata": {},
     "output_type": "execute_result"
    }
   ],
   "source": [
    "content_response = response.json()\n",
    "content_response"
   ]
  },
  {
   "cell_type": "markdown",
   "id": "3b06c93a-dcbe-484a-a354-43f5eb5488de",
   "metadata": {},
   "source": [
    "### Atribuindo a um array os nomes dos sorvetes usando list comprehension"
   ]
  },
  {
   "cell_type": "code",
   "execution_count": 138,
   "id": "8b956c21-827c-4d65-86ce-530b2951135e",
   "metadata": {},
   "outputs": [
    {
     "data": {
      "text/plain": [
       "['Eskibon Clássico', 'Frutare Uva', 'Chocotop']"
      ]
     },
     "execution_count": 138,
     "metadata": {},
     "output_type": "execute_result"
    }
   ],
   "source": [
    "nomes_sorvetes = [sorvete['nome'] for sorvete in content_response]\n",
    "nomes_sorvetes"
   ]
  },
  {
   "cell_type": "markdown",
   "id": "7b58b176-b9c9-4415-9e3e-3b364a0e7878",
   "metadata": {},
   "source": [
    "### Importando bibliotecas para extrair informações dos preços"
   ]
  },
  {
   "cell_type": "code",
   "execution_count": 139,
   "id": "a6fa001d-09e5-4e17-8f40-b16100fa6c42",
   "metadata": {},
   "outputs": [],
   "source": [
    "import selenium\n",
    "from selenium import webdriver\n",
    "from selenium.webdriver.common.by import By\n",
    "from selenium.webdriver.common.keys import Keys\n",
    "from selenium.webdriver.support.ui import WebDriverWait\n",
    "from selenium.webdriver.support import expected_conditions as EC\n",
    "from selenium.webdriver.chrome.service import Service\n",
    "from selenium.webdriver.chrome.options import Options\n",
    "from bs4 import BeautifulSoup\n",
    "import requests\n"
   ]
  },
  {
   "cell_type": "markdown",
   "id": "775b3e1a-944c-4ef3-8dd4-9bd5cc6afbb2",
   "metadata": {},
   "source": [
    "### Atribuindo caminhos base"
   ]
  },
  {
   "cell_type": "code",
   "execution_count": 140,
   "id": "289fb766-f7c8-4123-9f33-fbaa0bb99fa9",
   "metadata": {},
   "outputs": [],
   "source": [
    "WEBDRIVER_PATH = \"C:\\\\Users\\\\diogo\\\\Downloads\\\\chromedriver-win64\\\\chromedriver-win64\\\\chromedriver.exe\"\n",
    "BASE_SITE = \"https://www.google.com/\"\n",
    "LISTA_DE_MEDIAS = []"
   ]
  },
  {
   "cell_type": "markdown",
   "id": "6803bd42-235a-4646-8497-0ac352241ba9",
   "metadata": {},
   "source": [
    "### Calcula média dos valores"
   ]
  },
  {
   "cell_type": "code",
   "execution_count": 141,
   "id": "cbc2ab63-78f7-4d8f-a3e2-244c7f0cdc0c",
   "metadata": {},
   "outputs": [],
   "source": [
    "def retorna_media(lista_de_precos):\n",
    "    soma = sum(lista_de_precos)\n",
    "    media = soma / len(lista_de_precos)\n",
    "    return media"
   ]
  },
  {
   "cell_type": "markdown",
   "id": "d9ace6ca-c1ad-41e1-a0b7-edae92189039",
   "metadata": {},
   "source": [
    "### Extrai todos os preços"
   ]
  },
  {
   "cell_type": "code",
   "execution_count": 142,
   "id": "2544559f-1558-4650-9e0b-dfa370b395c7",
   "metadata": {},
   "outputs": [],
   "source": [
    "headers = {\n",
    "    'User-Agent': 'Mozilla/5.0 (Windows NT 10.0; Win64; x64) AppleWebKit/537.36 (KHTML, like Gecko) Chrome/91.0.4472.124 Safari/537.36'\n",
    "}\n",
    "\n",
    "def extrair_dados(url_base):\n",
    "    lista_de_valores = []\n",
    "    r = requests.get(url_base, headers=headers)\n",
    "    soup = BeautifulSoup(r.text, 'html.parser')\n",
    "    \n",
    "    lista_produtos = soup.find_all(\"div\", class_='sh-dgr__gr-auto sh-dgr__grid-result')\n",
    "    \n",
    "    # Restringe para não vir produtos errados\n",
    "    for produto in lista_produtos[:4]:\n",
    "        preco_atual =  produto.find(\"span\", class_=\"a8Pemb OFFNJ\").text\n",
    "        lista_de_valores.append(float(str(preco_atual)[3: len(preco_atual)].replace(\",\", \".\")))\n",
    "\n",
    "    media_final = retorna_media(lista_de_valores)\n",
    "    return media_final\n",
    "    "
   ]
  },
  {
   "cell_type": "markdown",
   "id": "ab021a64-df28-43bc-bbd2-c8c427cfbbf0",
   "metadata": {},
   "source": [
    "### Navega para encontrar dados"
   ]
  },
  {
   "cell_type": "code",
   "execution_count": 143,
   "id": "f1edf1ef-9425-4d9b-83ba-d8229a65cdcd",
   "metadata": {},
   "outputs": [],
   "source": [
    "def busca_dados(search_term):\n",
    "    chrome_options = Options()\n",
    "    chrome_options.add_argument('--headless')\n",
    "    chrome_options.add_argument('--disable-gpu')\n",
    "    driver = webdriver.Chrome(options=chrome_options)\n",
    "    driver.get(BASE_SITE)\n",
    "\n",
    "    text_box_found = driver.find_element(By.XPATH, '//*[@id=\"APjFqb\"]')\n",
    "\n",
    "    # Termo shopping para sempre aparecer a aba na segunda página\n",
    "    text_box_found.send_keys(f'{search_term} shopping')\n",
    "    text_box_found.send_keys(Keys.RETURN)\n",
    "    driver.implicitly_wait(4)\n",
    "    aba_shopping = driver.find_element(By.XPATH, '//*[@id=\"hdtb-sc\"]/div/div[1]/div[1]/div/div[2]/a/div').click()\n",
    "    \n",
    "    URL_ATUAL = driver.current_url\n",
    "    driver.quit()\n",
    "    \n",
    "    resultado = extrair_dados(URL_ATUAL)\n",
    "    LISTA_DE_MEDIAS.append({\"Nome Sorvete\": search_term, \"Média preço\": resultado})\n",
    "    "
   ]
  },
  {
   "cell_type": "markdown",
   "id": "e73975ed-4983-4041-a0e7-23f06df6693f",
   "metadata": {},
   "source": [
    "### Itera sobre os sorvetes e chama as funções anteriores\n",
    "\n",
    "Nessa etapa em caso de erro, tente rodar novamente. Algo pode ter dado errado ao executar o navegador"
   ]
  },
  {
   "cell_type": "code",
   "execution_count": 144,
   "id": "91734740-2379-4abd-b817-32b7964f736b",
   "metadata": {},
   "outputs": [
    {
     "name": "stdout",
     "output_type": "stream",
     "text": [
      "[{'Nome Sorvete': 'Eskibon Clássico', 'Média preço': 16.195}, {'Nome Sorvete': 'Frutare Uva', 'Média preço': 6.8975}, {'Nome Sorvete': 'Chocotop', 'Média preço': 27.689999999999998}]\n"
     ]
    }
   ],
   "source": [
    "for sorvete_para_pesquisa in nomes_sorvetes:\n",
    "    busca_dados(sorvete_para_pesquisa)\n",
    "\n",
    "print(LISTA_DE_MEDIAS)"
   ]
  },
  {
   "cell_type": "markdown",
   "id": "6bbd01a8-2320-46d0-b2be-f074d07e4c69",
   "metadata": {},
   "source": [
    "### Importando pandas para gerar .csv"
   ]
  },
  {
   "cell_type": "code",
   "execution_count": 145,
   "id": "00833dbb-db20-493a-b483-d8f58af0f3f5",
   "metadata": {},
   "outputs": [],
   "source": [
    "import pandas as pd"
   ]
  },
  {
   "cell_type": "code",
   "execution_count": 146,
   "id": "5a7c0df6-86ad-495e-88cf-3dee038b11a9",
   "metadata": {},
   "outputs": [],
   "source": [
    "df = pd.DataFrame(LISTA_DE_MEDIAS)\n",
    "\n",
    "df.to_csv('media_sorvetes_preco.csv', index=False)"
   ]
  },
  {
   "cell_type": "markdown",
   "id": "0322cbdb-bb4b-4c60-9b09-6656952ff2c8",
   "metadata": {},
   "source": [
    "### Importando sklearn e matplotlib para analise dos dados"
   ]
  },
  {
   "cell_type": "code",
   "execution_count": 147,
   "id": "25f729dc-5263-4932-897d-6c5c153dfcc5",
   "metadata": {},
   "outputs": [],
   "source": [
    "from sklearn.cluster import KMeans\n",
    "import matplotlib.pyplot as plt"
   ]
  },
  {
   "cell_type": "code",
   "execution_count": 148,
   "id": "2b214318-0b7d-46e3-ae56-da6e3f3f20e5",
   "metadata": {},
   "outputs": [
    {
     "name": "stdout",
     "output_type": "stream",
     "text": [
      "       Nome Sorvete  Média preço  Cluster\n",
      "0  Eskibon Clássico      16.1950        0\n",
      "1       Frutare Uva       6.8975        0\n",
      "2          Chocotop      27.6900        1\n"
     ]
    },
    {
     "data": {
      "image/png": "[encoded data removed]",
      "text/plain": [
       "<Figure size 640x480 with 1 Axes>"
      ]
     },
     "metadata": {},
     "output_type": "display_data"
    }
   ],
   "source": [
    "df_media_peco = df[['Média preço']]\n",
    "\n",
    "kmeans = KMeans(n_clusters=2, random_state=0).fit(df_media_peco)\n",
    "df['Cluster'] = kmeans.labels_\n",
    "print(df)\n",
    "\n",
    "plt.scatter(df['Média preço'], [0]*len(df), c=df['Cluster'], cmap='viridis')\n",
    "plt.xlabel('Média preço')\n",
    "plt.title('Sorvetes')\n",
    "plt.show()"
   ]
  },
  {
   "cell_type": "code",
   "execution_count": null,
   "id": "236a4365-4132-4e7e-820e-f8d3599af66b",
   "metadata": {},
   "outputs": [],
   "source": []
  }
 ],
 "metadata": {
  "kernelspec": {
   "display_name": "env",
   "language": "python",
   "name": "env"
  },
  "language_info": {
   "codemirror_mode": {
    "name": "ipython",
    "version": 3
   },
   "file_extension": ".py",
   "mimetype": "text/x-python",
   "name": "python",
   "nbconvert_exporter": "python",
   "pygments_lexer": "ipython3",
   "version": "3.11.5"
  }
 },
 "nbformat": 4,
 "nbformat_minor": 5
}
